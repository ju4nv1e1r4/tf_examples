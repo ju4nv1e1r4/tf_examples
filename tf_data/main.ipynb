{
 "cells": [
  {
   "cell_type": "markdown",
   "metadata": {},
   "source": [
    "### Loading a dataset"
   ]
  },
  {
   "cell_type": "code",
   "execution_count": 35,
   "metadata": {},
   "outputs": [
    {
     "name": "stdout",
     "output_type": "stream",
     "text": [
      "Texto: This was an absolutely terrible movie. Don't be lured in by Christopher Walken or Michael Ironside. Both are great actors, but this must simply be their worst role in history. Even their great acting could not redeem this movie's ridiculous storyline. This movie is an early nineties US propaganda piece. The most pathetic scenes were those when the Columbian rebels were making their cases for revolutions. Maria Conchita Alonso appeared phony, and her pseudo-love affair with Walken was nothing but a pathetic emotional plug in a movie that was devoid of any real meaning. I am disappointed that there are movies like this, ruining actor's like Christopher Walken's good name. I could barely sit through it.\n",
      "Label: 0\n",
      "\n",
      "Texto: I have been known to fall asleep during films, but this is usually due to a combination of things including, really tired, being warm and comfortable on the sette and having just eaten a lot. However on this occasion I fell asleep because the film was rubbish. The plot development was constant. Constantly slow and boring. Things seemed to happen, but with no explanation of what was causing them or why. I admit, I may have missed part of the film, but i watched the majority of it and everything just seemed to happen of its own accord without any real concern for anything else. I cant recommend this film at all.\n",
      "Label: 0\n",
      "\n",
      "Texto: Mann photographs the Alberta Rocky Mountains in a superb fashion, and Jimmy Stewart and Walter Brennan give enjoyable performances as they always seem to do. <br /><br />But come on Hollywood - a Mountie telling the people of Dawson City, Yukon to elect themselves a marshal (yes a marshal!) and to enforce the law themselves, then gunfighters battling it out on the streets for control of the town? <br /><br />Nothing even remotely resembling that happened on the Canadian side of the border during the Klondike gold rush. Mr. Mann and company appear to have mistaken Dawson City for Deadwood, the Canadian North for the American Wild West.<br /><br />Canadian viewers be prepared for a Reefer Madness type of enjoyable howl with this ludicrous plot, or, to shake your head in disgust.\n",
      "Label: 0\n",
      "\n"
     ]
    },
    {
     "name": "stderr",
     "output_type": "stream",
     "text": [
      "2025-03-10 10:44:06.854843: W tensorflow/core/kernels/data/cache_dataset_ops.cc:914] The calling iterator did not fully read the dataset being cached. In order to avoid unexpected truncation of the dataset, the partially cached contents of the dataset  will be discarded. This can happen if you have an input pipeline similar to `dataset.cache().take(k).repeat()`. You should use `dataset.take(k).cache().repeat()` instead.\n"
     ]
    }
   ],
   "source": [
    "import tensorflow as tf\n",
    "import tensorflow_datasets as tfds\n",
    "\n",
    "dataset, info = tfds.load(\n",
    "    \"imdb_reviews\",\n",
    "    as_supervised=True,\n",
    "    with_info=True\n",
    ")\n",
    "\n",
    "train_data, test_data = dataset[\"train\"], dataset[\"test\"]\n",
    "\n",
    "for txt, label in train_data.take(3):\n",
    "    print(f\"Texto: {txt.numpy().decode('utf-8')}\")\n",
    "    print(f\"Label: {label.numpy()}\\n\")"
   ]
  },
  {
   "cell_type": "markdown",
   "metadata": {},
   "source": [
    "### Vetorization"
   ]
  },
  {
   "cell_type": "code",
   "execution_count": 36,
   "metadata": {},
   "outputs": [
    {
     "name": "stderr",
     "output_type": "stream",
     "text": [
      "2025-03-10 10:44:12.364995: I tensorflow/core/framework/local_rendezvous.cc:405] Local rendezvous is aborting with status: OUT_OF_RANGE: End of sequence\n"
     ]
    }
   ],
   "source": [
    "VOCAB_SIZE = 10_000\n",
    "MAX_LEN = 100\n",
    "\n",
    "vectorizer = tf.keras.layers.TextVectorization( # camada de vetorização\n",
    "    max_tokens=VOCAB_SIZE,\n",
    "    output_mode=\"int\",\n",
    "    output_sequence_length=MAX_LEN\n",
    ")\n",
    "\n",
    "train_text = train_data.map(lambda txt, label: txt) # trabalharemos só com os textos nessa etapa\n",
    "vectorizer.adapt(train_text.batch(64))"
   ]
  },
  {
   "cell_type": "code",
   "execution_count": 37,
   "metadata": {},
   "outputs": [],
   "source": [
    "def preprocess(txt, label):\n",
    "    text = vectorizer(txt)\n",
    "    return text, label"
   ]
  },
  {
   "cell_type": "markdown",
   "metadata": {},
   "source": [
    "### Saving data as tfrecord"
   ]
  },
  {
   "cell_type": "code",
   "execution_count": 38,
   "metadata": {},
   "outputs": [],
   "source": [
    "import numpy as np\n",
    "\n",
    "def serialize_example(txt_tensor, label):\n",
    "    text_feature = txt_tensor.numpy().astype(np.int64)\n",
    "    label_feature = np.array(label.numpy(), dtype=np.int64)\n",
    "\n",
    "    feature = {\n",
    "        'text': tf.train.Feature(int64_list=tf.train.Int64List(value=text_feature)),\n",
    "        'label': tf.train.Feature(int64_list=tf.train.Int64List(value=[label_feature]))\n",
    "    }\n",
    "\n",
    "    example = tf.train.Example(features=tf.train.Features(feature=feature))\n",
    "    return example.SerializeToString()\n",
    "\n",
    "def save_as_tfrecord(dataset, filename):\n",
    "    with tf.io.TFRecordWriter(filename) as writer:\n",
    "        for text, label in dataset:\n",
    "            serialized_example = serialize_example(text, label)\n",
    "            writer.write(serialized_example)"
   ]
  },
  {
   "cell_type": "code",
   "execution_count": null,
   "metadata": {},
   "outputs": [],
   "source": [
    "train_data_processed = train_data.map(preprocess) # salvando os dados já pré-processados\n",
    "test_data_processed = test_data.map(preprocess)   # salvando os dados já pré-processados\n",
    "\n",
    "save_as_tfrecord(train_data_processed, 'train.tfrecord')\n",
    "save_as_tfrecord(test_data_processed, 'test.tfrecord')"
   ]
  },
  {
   "cell_type": "markdown",
   "metadata": {},
   "source": [
    "### Loading data"
   ]
  },
  {
   "cell_type": "code",
   "execution_count": 40,
   "metadata": {},
   "outputs": [],
   "source": [
    "def parse_tfrecord_fn(serialized_example):\n",
    "    feature_description = {\n",
    "        'text': tf.io.FixedLenFeature([MAX_LEN], tf.int64),\n",
    "        'label': tf.io.FixedLenFeature([], tf.int64)\n",
    "    }\n",
    "\n",
    "    example = tf.io.parse_single_example(serialized_example, feature_description)\n",
    "    return example['text'], example['label']"
   ]
  },
  {
   "cell_type": "code",
   "execution_count": 41,
   "metadata": {},
   "outputs": [],
   "source": [
    "train_dataset = tf.data.TFRecordDataset('train.tfrecord').map(parse_tfrecord_fn)\n",
    "test_dataset = tf.data.TFRecordDataset('test.tfrecord').map(parse_tfrecord_fn)"
   ]
  },
  {
   "cell_type": "code",
   "execution_count": 42,
   "metadata": {},
   "outputs": [],
   "source": [
    "def apply_preprocess(train_data, test_data):\n",
    "    train_data = train_data.shuffle(10_000).batch(32).prefetch(tf.data.AUTOTUNE)\n",
    "    test_data = test_data.batch(32).prefetch(tf.data.AUTOTUNE)\n",
    "    return train_data, test_data"
   ]
  },
  {
   "cell_type": "code",
   "execution_count": 43,
   "metadata": {},
   "outputs": [],
   "source": [
    "train_data, test_data = apply_preprocess(train_dataset, test_dataset)"
   ]
  },
  {
   "cell_type": "code",
   "execution_count": 44,
   "metadata": {},
   "outputs": [
    {
     "data": {
      "text/plain": [
       "<_PrefetchDataset element_spec=(TensorSpec(shape=(None, 100), dtype=tf.int64, name=None), TensorSpec(shape=(None,), dtype=tf.int64, name=None))>"
      ]
     },
     "execution_count": 44,
     "metadata": {},
     "output_type": "execute_result"
    }
   ],
   "source": [
    "train_data"
   ]
  },
  {
   "cell_type": "code",
   "execution_count": 45,
   "metadata": {},
   "outputs": [
    {
     "data": {
      "text/plain": [
       "<_PrefetchDataset element_spec=(TensorSpec(shape=(None, 100), dtype=tf.int64, name=None), TensorSpec(shape=(None,), dtype=tf.int64, name=None))>"
      ]
     },
     "execution_count": 45,
     "metadata": {},
     "output_type": "execute_result"
    }
   ],
   "source": [
    "test_data"
   ]
  },
  {
   "cell_type": "code",
   "execution_count": 46,
   "metadata": {},
   "outputs": [
    {
     "name": "stderr",
     "output_type": "stream",
     "text": [
      "2025-03-10 10:45:45.660410: I tensorflow/core/kernels/data/tf_record_dataset_op.cc:370] TFRecordDataset `buffer_size` is unspecified, default to 262144\n"
     ]
    },
    {
     "name": "stdout",
     "output_type": "stream",
     "text": [
      "Shape dos textos: (32, 100)\n",
      "Shape dos labels: (32,)\n",
      "Exemplo de texto: [  11    7    2  240  151    2    1 3187   44  122    1   10   14    4\n",
      "  548   51   11  366   46    3   10  124  199    9   14    1   54  149\n",
      "   10  405    2  198    1   13  213   11   29  135   10  364   51    2\n",
      " 3571 4655  230 2489    6   25    1   49    1 1188   24   30 2518  106\n",
      "  439  782   21    2  204   16  571    4  653 8257   19   12  153 1389\n",
      "   70   38   73   38   12   10  153   54  364   40  351   10  321   43\n",
      "    2  120 1003   32    8   32   30 3758    1   13    2   61  869  151\n",
      "   14    2]\n",
      "Exemplo de label: 0\n"
     ]
    }
   ],
   "source": [
    "for texts, labels in train_data.take(1):\n",
    "    print(f\"Shape dos textos: {texts.shape}\")\n",
    "    print(f\"Shape dos labels: {labels.shape}\")\n",
    "    print(f\"Exemplo de texto: {texts[0]}\")\n",
    "    print(f\"Exemplo de label: {labels[0]}\")"
   ]
  },
  {
   "cell_type": "markdown",
   "metadata": {},
   "source": [
    "### Exploring tf.data API..."
   ]
  },
  {
   "cell_type": "code",
   "execution_count": 50,
   "metadata": {},
   "outputs": [],
   "source": [
    "import pandas as pd\n",
    "\n",
    "def load_csv(csv_file: str, batch_size: int, label: str, shuffle_size: int):\n",
    "    dataset = tf.data.experimental.make_csv_dataset(\n",
    "        csv_file,\n",
    "        batch_size=batch_size,\n",
    "        label_name=label,\n",
    "        num_epochs=1,\n",
    "        na_value=\"?\",\n",
    "        shuffle=True,\n",
    "        shuffle_buffer_size=shuffle_size\n",
    "    )\n",
    "\n",
    "    return dataset"
   ]
  },
  {
   "cell_type": "markdown",
   "metadata": {},
   "source": [
    "### Loading CSV with tf.data"
   ]
  },
  {
   "cell_type": "code",
   "execution_count": 53,
   "metadata": {},
   "outputs": [
    {
     "data": {
      "text/plain": [
       "<_PrefetchDataset element_spec=(OrderedDict([('ping_ms', TensorSpec(shape=(None,), dtype=tf.float32, name=None)), ('temperature_c', TensorSpec(shape=(None,), dtype=tf.int32, name=None)), ('humidity_p', TensorSpec(shape=(None,), dtype=tf.int32, name=None))]), TensorSpec(shape=(None,), dtype=tf.string, name=None))>"
      ]
     },
     "execution_count": 53,
     "metadata": {},
     "output_type": "execute_result"
    }
   ],
   "source": [
    "data = load_csv(\n",
    "    csv_file=\"../tf_data/data.csv\",\n",
    "    batch_size=32,\n",
    "    label=\"time_id\",\n",
    "    shuffle_size=10_000\n",
    ")\n",
    "\n",
    "data"
   ]
  },
  {
   "cell_type": "markdown",
   "metadata": {},
   "source": [
    "### Reading it:"
   ]
  },
  {
   "cell_type": "code",
   "execution_count": 56,
   "metadata": {},
   "outputs": [
    {
     "name": "stdout",
     "output_type": "stream",
     "text": [
      "Features: \n",
      "ping_ms: [16.95 25.8  18.49 17.11 17.49 19.89 17.32 16.42 38.26 18.72 17.53 18.29\n",
      " 17.99 32.72 17.97 17.77 28.81 16.9  24.93 29.02 17.22 51.96 22.52 17.38\n",
      " 28.58 18.37 16.91 16.61 17.84 17.3  16.98 17.14]\n",
      "temperature_c: [23 25 24 24 24 24 23 22 25 26 22 24 24 28 24 24 26 25 27 27 23 26 25 24\n",
      " 23 25 25 24 21 25 23 23]\n",
      "humidity_p: [41 41 42 48 32 47 41 50 33 48 35 48 42 28 42 39 31 34 28 30 48 33 30 31\n",
      " 35 41 40 42 36 37 45 40]\n",
      "Labels: [b'2021-10-02 07:19:02' b'2021-10-04 16:00:02' b'2021-10-01 19:34:01'\n",
      " b'2021-10-05 12:07:02' b'2021-10-01 12:09:01' b'2021-10-05 21:15:02'\n",
      " b'2021-10-02 02:27:02' b'2021-10-04 01:16:02' b'2021-10-03 12:08:02'\n",
      " b'2021-10-07 19:53:02' b'2021-10-07 13:48:02' b'2021-10-05 20:50:01'\n",
      " b'2021-10-04 07:05:02' b'2021-10-03 13:48:02' b'2021-09-30 21:54:01'\n",
      " b'2021-10-01 01:20:02' b'2021-10-03 18:02:01' b'2021-10-07 18:49:01'\n",
      " b'2021-10-03 13:29:01' b'2021-10-02 14:03:02' b'2021-10-05 15:50:02'\n",
      " b'2021-10-03 12:37:01' b'2021-10-02 23:00:02' b'2021-10-06 16:27:02'\n",
      " b'2021-10-03 02:48:01' b'2021-10-04 19:10:02' b'2021-10-06 22:14:01'\n",
      " b'2021-10-04 08:43:02' b'2021-10-06 19:11:02' b'2021-10-01 09:53:02'\n",
      " b'2021-10-04 19:36:02' b'2021-10-06 03:49:02']\n",
      "Features: \n",
      "ping_ms: [17.49 17.69 17.44 23.6  20.2  19.96 17.35 21.72 17.63 16.78 17.66 16.2\n",
      " 17.17 18.5  18.37 17.87 28.87 17.42 17.08 16.49 16.77 16.37 16.9  17.5\n",
      " 17.06 16.98 18.21 22.66 17.45 16.64 17.09 17.35]\n",
      "temperature_c: [25 23 24 23 25 24 23 26 26 23 24 23 24 23 23 23 27 23 25 25 24 24 23 25\n",
      " 21 23 22 26 26 24 21 25]\n",
      "humidity_p: [38 43 37 37 39 34 40 33 34 33 41 42 35 46 45 37 31 36 43 39 38 43 41 42\n",
      " 53 41 37 31 41 43 54 30]\n",
      "Labels: [b'2021-10-06 23:09:02' b'2021-10-04 04:27:01' b'2021-10-08 05:44:01'\n",
      " b'2021-10-07 23:05:01' b'2021-10-07 02:58:01' b'2021-10-07 09:40:02'\n",
      " b'2021-10-02 03:19:01' b'2021-10-03 18:55:02' b'2021-10-01 15:28:02'\n",
      " b'2021-10-07 18:19:01' b'2021-10-06 07:26:02' b'2021-10-06 02:18:01'\n",
      " b'2021-10-01 09:04:02' b'2021-10-04 19:39:01' b'2021-10-04 19:33:02'\n",
      " b'2021-10-03 05:57:02' b'2021-10-02 14:10:02' b'2021-10-03 07:24:02'\n",
      " b'2021-10-05 13:46:01' b'2021-10-07 02:34:01' b'2021-10-06 12:04:01'\n",
      " b'2021-10-04 19:54:02' b'2021-10-02 07:31:01' b'2021-10-04 21:10:02'\n",
      " b'2021-10-05 02:54:02' b'2021-10-02 00:04:01' b'2021-10-06 19:39:02'\n",
      " b'2021-10-02 19:19:02' b'2021-10-04 15:32:02' b'2021-10-04 19:24:01'\n",
      " b'2021-10-05 05:44:01' b'2021-10-01 12:20:02']\n",
      "Features: \n",
      "ping_ms: [16.42 16.83 16.64 18.3  17.65 20.45 25.13 17.24 20.17 20.57 25.07 21.6\n",
      " 17.4  17.99 17.18 22.45 26.63 19.95 26.2  17.36 17.47 17.08 17.67 19.61\n",
      " 17.13 18.   16.78 16.45 17.04 18.58 19.82 32.52]\n",
      "temperature_c: [22 21 24 24 23 23 23 23 24 23 24 26 23 23 25 23 28 27 23 25 22 25 24 21\n",
      " 24 23 24 24 24 24 24 23]\n",
      "humidity_p: [35 54 35 33 45 45 39 41 33 38 43 33 41 36 36 33 27 34 40 36 40 34 36 35\n",
      " 39 45 38 37 47 44 40 39]\n",
      "Labels: [b'2021-10-06 20:47:02' b'2021-10-05 04:33:02' b'2021-10-01 10:02:02'\n",
      " b'2021-10-01 11:25:02' b'2021-10-04 19:34:01' b'2021-10-06 01:07:02'\n",
      " b'2021-10-03 22:57:02' b'2021-10-06 03:01:01' b'2021-10-07 10:37:02'\n",
      " b'2021-10-03 21:55:02' b'2021-10-04 17:28:01' b'2021-10-03 11:03:01'\n",
      " b'2021-10-02 01:44:02' b'2021-10-03 06:35:01' b'2021-10-01 17:30:01'\n",
      " b'2021-10-03 01:40:01' b'2021-10-03 15:01:02' b'2021-10-02 16:49:02'\n",
      " b'2021-10-01 21:16:02' b'2021-10-06 22:46:01' b'2021-10-01 23:46:02'\n",
      " b'2021-10-07 21:16:02' b'2021-10-01 08:45:02' b'2021-10-07 15:02:02'\n",
      " b'2021-10-01 02:04:02' b'2021-10-03 23:41:02' b'2021-10-06 08:30:02'\n",
      " b'2021-10-08 00:52:02' b'2021-10-05 19:36:02' b'2021-10-04 18:03:01'\n",
      " b'2021-10-01 19:50:02' b'2021-10-01 20:58:01']\n"
     ]
    }
   ],
   "source": [
    "for features, labels in data.take(3):\n",
    "    print(\"Features: \")\n",
    "    for k, v in features.items():\n",
    "        print(f\"{k}: {v.numpy()}\")\n",
    "    \n",
    "    print(f\"Labels: {labels.numpy()}\")"
   ]
  },
  {
   "cell_type": "markdown",
   "metadata": {},
   "source": [
    "### Preparing for model:"
   ]
  },
  {
   "cell_type": "code",
   "execution_count": 58,
   "metadata": {},
   "outputs": [],
   "source": [
    "def prepare_for_model(features, label):\n",
    "    feature_tensor = tf.stack([\n",
    "        features['ping_ms'],\n",
    "        tf.cast(features['temperature_c'], tf.float32),\n",
    "        tf.cast(features['humidity_p'], tf.float32)\n",
    "    ], axis=1)\n",
    "    \n",
    "    return feature_tensor, label\n",
    "\n",
    "model_ready_dataset = data.map(prepare_for_model)"
   ]
  },
  {
   "cell_type": "code",
   "execution_count": 59,
   "metadata": {},
   "outputs": [
    {
     "data": {
      "text/plain": [
       "<_MapDataset element_spec=(TensorSpec(shape=(None, 3), dtype=tf.float32, name=None), TensorSpec(shape=(None,), dtype=tf.string, name=None))>"
      ]
     },
     "execution_count": 59,
     "metadata": {},
     "output_type": "execute_result"
    }
   ],
   "source": [
    "model_ready_dataset"
   ]
  }
 ],
 "metadata": {
  "kernelspec": {
   "display_name": "env",
   "language": "python",
   "name": "python3"
  },
  "language_info": {
   "codemirror_mode": {
    "name": "ipython",
    "version": 3
   },
   "file_extension": ".py",
   "mimetype": "text/x-python",
   "name": "python",
   "nbconvert_exporter": "python",
   "pygments_lexer": "ipython3",
   "version": "3.11.2"
  }
 },
 "nbformat": 4,
 "nbformat_minor": 2
}
